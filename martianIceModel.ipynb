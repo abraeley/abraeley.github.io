{
 "cells": [
  {
   "cell_type": "markdown",
   "id": "32f3ecbb",
   "metadata": {},
   "source": [
    "<H1>Martian Ice Model</H1>\n",
    "Alan Braeley"
   ]
  },
  {
   "cell_type": "code",
   "execution_count": null,
   "id": "c6d71282",
   "metadata": {},
   "outputs": [],
   "source": []
  }
 ],
 "metadata": {
  "kernelspec": {
   "display_name": "Python 3 (ipykernel)",
   "language": "python",
   "name": "python3"
  },
  "language_info": {
   "codemirror_mode": {
    "name": "ipython",
    "version": 3
   },
   "file_extension": ".py",
   "mimetype": "text/x-python",
   "name": "python",
   "nbconvert_exporter": "python",
   "pygments_lexer": "ipython3",
   "version": "3.8.11"
  }
 },
 "nbformat": 4,
 "nbformat_minor": 5
}
